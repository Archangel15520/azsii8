{
  "nbformat": 4,
  "nbformat_minor": 0,
  "metadata": {
    "colab": {
      "provenance": []
    },
    "kernelspec": {
      "name": "python3",
      "display_name": "Python 3"
    },
    "language_info": {
      "name": "python"
    }
  },
  "cells": [
    {
      "cell_type": "markdown",
      "source": [
        "# Практика 8: Методы защиты от атак на модели ИИ\n",
        "\n",
        "**Цель задания:**\n",
        "\n",
        "Изучить методы защиты моделей ИИ от различных атак, включая методы защиты на уровне данных,\n",
        "моделирования и обучения. Реализовать эти методы и проверить их эффективность против атак,\n",
        "изученных ранее.\n",
        "\n",
        "**Задачи:**\n",
        "\n",
        "1. Изучить и реализовать защиту модели с помощью тренировок на противоречивых примерах\n",
        "(Adversarial Training).\n",
        "2. Реализовать метод защиты на основе градиентной маскировки.\n",
        "3. Использовать регуляризацию и нормализацию для повышения устойчивости модели.\n",
        "4. Проверить эффективность методов защиты против атак FGSM, PGD и GAN-based атак.\n",
        "5. Оценить улучшение точности защищенной модели на противоречивых примерах.\n",
        "Шаги выполнения:\n",
        "\n",
        "## Шаг 1: Защита с помощью Adversarial Training\n",
        "\n",
        "Adversarial Training — это метод защиты, который заключается в том, чтобы обучать модель на\n",
        "противоречивых примерах. Этот метод помогает модели научиться быть более устойчивой к атакам,\n",
        "так как она сталкивается с противоречивыми примерами на этапе обучения."
      ],
      "metadata": {
        "id": "5yIbSTjf-TyE"
      }
    },
    {
      "cell_type": "code",
      "execution_count": 1,
      "metadata": {
        "colab": {
          "base_uri": "https://localhost:8080/"
        },
        "id": "KXuJ5pWV36o-",
        "outputId": "6655ffe0-1c14-4e7d-ccb7-05414d13a5c5"
      },
      "outputs": [
        {
          "output_type": "stream",
          "name": "stdout",
          "text": [
            "Downloading data from https://storage.googleapis.com/tensorflow/tf-keras-datasets/mnist.npz\n",
            "\u001b[1m11490434/11490434\u001b[0m \u001b[32m━━━━━━━━━━━━━━━━━━━━\u001b[0m\u001b[37m\u001b[0m \u001b[1m0s\u001b[0m 0us/step\n"
          ]
        },
        {
          "output_type": "stream",
          "name": "stderr",
          "text": [
            "/usr/local/lib/python3.10/dist-packages/keras/src/layers/reshaping/flatten.py:37: UserWarning: Do not pass an `input_shape`/`input_dim` argument to a layer. When using Sequential models, prefer using an `Input(shape)` object as the first layer in the model instead.\n",
            "  super().__init__(**kwargs)\n",
            "WARNING:tensorflow:5 out of the last 5 calls to <function TensorFlowTrainer.make_train_function.<locals>.one_step_on_iterator at 0x785e44598ee0> triggered tf.function retracing. Tracing is expensive and the excessive number of tracings could be due to (1) creating @tf.function repeatedly in a loop, (2) passing tensors with different shapes, (3) passing Python objects instead of tensors. For (1), please define your @tf.function outside of the loop. For (2), @tf.function has reduce_retracing=True option that can avoid unnecessary retracing. For (3), please refer to https://www.tensorflow.org/guide/function#controlling_retracing and https://www.tensorflow.org/api_docs/python/tf/function for  more details.\n",
            "WARNING:tensorflow:6 out of the last 6 calls to <function TensorFlowTrainer.make_train_function.<locals>.one_step_on_iterator at 0x785e44598ee0> triggered tf.function retracing. Tracing is expensive and the excessive number of tracings could be due to (1) creating @tf.function repeatedly in a loop, (2) passing tensors with different shapes, (3) passing Python objects instead of tensors. For (1), please define your @tf.function outside of the loop. For (2), @tf.function has reduce_retracing=True option that can avoid unnecessary retracing. For (3), please refer to https://www.tensorflow.org/guide/function#controlling_retracing and https://www.tensorflow.org/api_docs/python/tf/function for  more details.\n",
            "WARNING:absl:You are saving your model as an HDF5 file via `model.save()` or `keras.saving.save_model(model)`. This file format is considered legacy. We recommend using instead the native Keras format, e.g. `model.save('my_model.keras')` or `keras.saving.save_model(model, 'my_model.keras')`. \n"
          ]
        }
      ],
      "source": [
        "import tensorflow as tf\n",
        "import numpy as np\n",
        "from tensorflow.keras.datasets import mnist\n",
        "from tensorflow.keras.models import Sequential\n",
        "from tensorflow.keras.layers import Flatten, Dense\n",
        "from tensorflow.keras.utils import to_categorical\n",
        "\n",
        "def load_and_preprocess_data():\n",
        "    (train_images, train_labels), (test_images, test_labels) = mnist.load_data()\n",
        "    train_images = train_images[:1000] / 255.0\n",
        "    test_images = test_images / 255.0\n",
        "    train_labels = to_categorical(train_labels[:1000], 10)\n",
        "    return train_images, train_labels, test_images, test_labels\n",
        "\n",
        "def create_fgsm_adversary(image, epsilon, gradient):\n",
        "    perturbed_image = image + epsilon * np.sign(gradient)\n",
        "    return np.clip(perturbed_image, 0, 1)\n",
        "\n",
        "def generate_adversarial_batch(model, images, labels, epsilon):\n",
        "    adversarial_images = []\n",
        "    for image, label in zip(images, labels):\n",
        "        image_tensor = tf.convert_to_tensor(image.reshape(1, 28, 28, 1), dtype=tf.float32)\n",
        "        label_tensor = tf.convert_to_tensor(label.reshape(1, 10), dtype=tf.float32)\n",
        "        with tf.GradientTape() as tape:\n",
        "            tape.watch(image_tensor)\n",
        "            predictions = model(image_tensor)\n",
        "            loss = tf.keras.losses.categorical_crossentropy(label_tensor, predictions)\n",
        "        gradients = tape.gradient(loss, image_tensor)\n",
        "        adversarial_image = create_fgsm_adversary(image_tensor.numpy(), epsilon, gradients.numpy()).reshape(28, 28)\n",
        "        adversarial_images.append(adversarial_image)\n",
        "    return np.array(adversarial_images)\n",
        "\n",
        "def build_model():\n",
        "    model = Sequential([\n",
        "        Flatten(input_shape=(28, 28)),\n",
        "        Dense(128, activation='relu'),\n",
        "        Dense(10, activation='softmax')\n",
        "    ])\n",
        "    model.compile(optimizer='adam', loss='categorical_crossentropy', metrics=['accuracy'])\n",
        "    return model\n",
        "\n",
        "def train_with_adversarial_data(model, train_images, train_labels, epsilon):\n",
        "    for epoch in range(5):\n",
        "        for start_idx in range(0, len(train_images), 32):\n",
        "            batch_images = train_images[start_idx:start_idx + 32]\n",
        "            batch_labels = train_labels[start_idx:start_idx + 32]\n",
        "            adversarial_images = generate_adversarial_batch(model, batch_images, batch_labels, epsilon)\n",
        "            augmented_images = np.concatenate((batch_images, adversarial_images))\n",
        "            augmented_labels = np.concatenate((batch_labels, batch_labels))\n",
        "            model.train_on_batch(augmented_images, augmented_labels)\n",
        "\n",
        "def main():\n",
        "    train_images, train_labels, test_images, test_labels = load_and_preprocess_data()\n",
        "    model = build_model()\n",
        "    train_with_adversarial_data(model, train_images, train_labels, epsilon=0.1)\n",
        "    model.save('adversarial_trained_model.h5')\n",
        "\n",
        "if __name__ == \"__main__\":\n",
        "    main()"
      ]
    },
    {
      "cell_type": "markdown",
      "source": [
        "## Шаг 2: Градиентная маскировка (Gradient Masking)\n",
        "\n",
        "Gradient Masking — это метод защиты, который затрудняет доступ к градиентам модели для атак. Он\n",
        "используется для уменьшения информации, доступной для атакующих, и усложнения поиска\n",
        "направленных изменений."
      ],
      "metadata": {
        "id": "6xLWAvikD2VX"
      }
    },
    {
      "cell_type": "code",
      "source": [
        "import tensorflow as tf\n",
        "import numpy as np\n",
        "from tensorflow.keras.datasets import mnist\n",
        "from tensorflow.keras.utils import to_categorical\n",
        "\n",
        "def preprocess_data():\n",
        "    (train_images, train_labels), (test_images, test_labels) = mnist.load_data()\n",
        "    train_images = train_images / 255.0\n",
        "    test_images = test_images / 255.0\n",
        "    train_labels = to_categorical(train_labels, 10)\n",
        "    test_labels = to_categorical(test_labels, 10)\n",
        "    return train_images, train_labels, test_images, test_labels\n",
        "\n",
        "def build_masked_model():\n",
        "    model = tf.keras.Sequential([\n",
        "        tf.keras.layers.Flatten(input_shape=(28, 28)),\n",
        "        tf.keras.layers.Dense(128, activation='relu'),\n",
        "        tf.keras.layers.Dense(10),\n",
        "        tf.keras.layers.Activation('softplus')  # Использование softplus вместо softmax\n",
        "    ])\n",
        "    model.compile(optimizer='adam', loss='categorical_crossentropy', metrics=['accuracy'])\n",
        "    return model\n",
        "\n",
        "def train_model(model, train_images, train_labels):\n",
        "    model.fit(train_images, train_labels, epochs=5)\n",
        "    return model\n",
        "\n",
        "def main():\n",
        "    train_images, train_labels, _, _ = preprocess_data()\n",
        "    masked_model = build_masked_model()\n",
        "    trained_model = train_model(masked_model, train_images, train_labels)\n",
        "    trained_model.save('masked_model.h5')\n",
        "\n",
        "if __name__ == \"__main__\":\n",
        "    main()"
      ],
      "metadata": {
        "colab": {
          "base_uri": "https://localhost:8080/"
        },
        "id": "TXC3pe-VD2vJ",
        "outputId": "36e8c78f-775e-4275-bfd6-be2fb2c3a647"
      },
      "execution_count": 2,
      "outputs": [
        {
          "output_type": "stream",
          "name": "stdout",
          "text": [
            "Epoch 1/5\n",
            "\u001b[1m1875/1875\u001b[0m \u001b[32m━━━━━━━━━━━━━━━━━━━━\u001b[0m\u001b[37m\u001b[0m \u001b[1m10s\u001b[0m 5ms/step - accuracy: 0.8698 - loss: 0.4839\n",
            "Epoch 2/5\n",
            "\u001b[1m1875/1875\u001b[0m \u001b[32m━━━━━━━━━━━━━━━━━━━━\u001b[0m\u001b[37m\u001b[0m \u001b[1m13s\u001b[0m 6ms/step - accuracy: 0.9597 - loss: 0.1355\n",
            "Epoch 3/5\n",
            "\u001b[1m1875/1875\u001b[0m \u001b[32m━━━━━━━━━━━━━━━━━━━━\u001b[0m\u001b[37m\u001b[0m \u001b[1m8s\u001b[0m 4ms/step - accuracy: 0.9736 - loss: 0.0894\n",
            "Epoch 4/5\n",
            "\u001b[1m1875/1875\u001b[0m \u001b[32m━━━━━━━━━━━━━━━━━━━━\u001b[0m\u001b[37m\u001b[0m \u001b[1m10s\u001b[0m 5ms/step - accuracy: 0.9799 - loss: 0.0668\n",
            "Epoch 5/5\n",
            "\u001b[1m1875/1875\u001b[0m \u001b[32m━━━━━━━━━━━━━━━━━━━━\u001b[0m\u001b[37m\u001b[0m \u001b[1m8s\u001b[0m 4ms/step - accuracy: 0.9852 - loss: 0.0496\n"
          ]
        },
        {
          "output_type": "stream",
          "name": "stderr",
          "text": [
            "WARNING:absl:You are saving your model as an HDF5 file via `model.save()` or `keras.saving.save_model(model)`. This file format is considered legacy. We recommend using instead the native Keras format, e.g. `model.save('my_model.keras')` or `keras.saving.save_model(model, 'my_model.keras')`. \n"
          ]
        }
      ]
    },
    {
      "cell_type": "markdown",
      "source": [
        "## Шаг 3: Регуляризация и нормализация для повышения устойчивости\n",
        "\n",
        "Использование таких методов, как L2-регуляризация, дропаут и нормализация батчей, может помочь\n",
        "улучшить устойчивость модели к атакам."
      ],
      "metadata": {
        "id": "h60nSbI7D-WY"
      }
    },
    {
      "cell_type": "code",
      "source": [
        "import tensorflow as tf\n",
        "import numpy as np\n",
        "from tensorflow.keras.datasets import mnist\n",
        "from tensorflow.keras.utils import to_categorical\n",
        "\n",
        "def preprocess_data():\n",
        "    (train_images, train_labels), (test_images, test_labels) = mnist.load_data()\n",
        "    train_images = train_images / 255.0\n",
        "    test_images = test_images / 255.0\n",
        "    train_labels = to_categorical(train_labels, 10)\n",
        "    test_labels = to_categorical(test_labels, 10)\n",
        "    return train_images, train_labels, test_images, test_labels\n",
        "\n",
        "def build_regularized_model():\n",
        "    model = tf.keras.Sequential([\n",
        "        tf.keras.layers.Flatten(input_shape=(28, 28)),\n",
        "        tf.keras.layers.Dense(128, activation='relu', kernel_regularizer=tf.keras.regularizers.l2(0.01)),\n",
        "        tf.keras.layers.Dropout(0.5),\n",
        "        tf.keras.layers.BatchNormalization(),\n",
        "        tf.keras.layers.Dense(10, activation='softmax')\n",
        "    ])\n",
        "    model.compile(optimizer='adam', loss='categorical_crossentropy', metrics=['accuracy'])\n",
        "    return model\n",
        "\n",
        "def train_and_save_model(model, train_images, train_labels):\n",
        "    model.fit(train_images, train_labels, epochs=5)\n",
        "    model.save('regularized_model.h5')\n",
        "\n",
        "def main():\n",
        "    train_images, train_labels, _, _ = preprocess_data()\n",
        "    regularized_model = build_regularized_model()\n",
        "    train_and_save_model(regularized_model, train_images, train_labels)\n",
        "\n",
        "if __name__ == \"__main__\":\n",
        "    main()"
      ],
      "metadata": {
        "colab": {
          "base_uri": "https://localhost:8080/"
        },
        "id": "ace6oj2gEFVm",
        "outputId": "7c7fbbd9-ddb7-4e29-96a2-898544e4ecdb"
      },
      "execution_count": 3,
      "outputs": [
        {
          "output_type": "stream",
          "name": "stdout",
          "text": [
            "Epoch 1/5\n",
            "\u001b[1m1875/1875\u001b[0m \u001b[32m━━━━━━━━━━━━━━━━━━━━\u001b[0m\u001b[37m\u001b[0m \u001b[1m16s\u001b[0m 7ms/step - accuracy: 0.7896 - loss: 1.3427\n",
            "Epoch 2/5\n",
            "\u001b[1m1875/1875\u001b[0m \u001b[32m━━━━━━━━━━━━━━━━━━━━\u001b[0m\u001b[37m\u001b[0m \u001b[1m9s\u001b[0m 5ms/step - accuracy: 0.8698 - loss: 0.6241\n",
            "Epoch 3/5\n",
            "\u001b[1m1875/1875\u001b[0m \u001b[32m━━━━━━━━━━━━━━━━━━━━\u001b[0m\u001b[37m\u001b[0m \u001b[1m10s\u001b[0m 5ms/step - accuracy: 0.8679 - loss: 0.6072\n",
            "Epoch 4/5\n",
            "\u001b[1m1875/1875\u001b[0m \u001b[32m━━━━━━━━━━━━━━━━━━━━\u001b[0m\u001b[37m\u001b[0m \u001b[1m9s\u001b[0m 4ms/step - accuracy: 0.8668 - loss: 0.6137\n",
            "Epoch 5/5\n",
            "\u001b[1m1875/1875\u001b[0m \u001b[32m━━━━━━━━━━━━━━━━━━━━\u001b[0m\u001b[37m\u001b[0m \u001b[1m9s\u001b[0m 5ms/step - accuracy: 0.8641 - loss: 0.6062\n"
          ]
        },
        {
          "output_type": "stream",
          "name": "stderr",
          "text": [
            "WARNING:absl:You are saving your model as an HDF5 file via `model.save()` or `keras.saving.save_model(model)`. This file format is considered legacy. We recommend using instead the native Keras format, e.g. `model.save('my_model.keras')` or `keras.saving.save_model(model, 'my_model.keras')`. \n"
          ]
        }
      ]
    },
    {
      "cell_type": "markdown",
      "source": [
        "## Шаг 4: Оценка моделей на противоречивых примерах\n",
        "\n",
        "Теперь проверим эффективность всех защитных методов на атакованных данных, созданных с\n",
        "помощью FGSM и других методов, таких как PGD или GAN."
      ],
      "metadata": {
        "id": "1U492_j2EBpI"
      }
    },
    {
      "cell_type": "code",
      "source": [
        "import tensorflow as tf\n",
        "import numpy as np\n",
        "from tensorflow.keras.models import load_model\n",
        "\n",
        "def evaluate_on_adversarial_data(models, adversarial_images, true_labels):\n",
        "    for model_name, model in models.items():\n",
        "        loss, accuracy = model.evaluate(adversarial_images, true_labels, verbose=0)\n",
        "        print(f\"Точность модели \\\"{model_name}\\\" на противоречивых примерах: {accuracy:.4f}\")\n",
        "\n",
        "def main():\n",
        "    # Загрузка предварительно обученных моделей\n",
        "    model_paths = {\n",
        "        'защищенная (protected)': 'adversarial_trained_model.h5',\n",
        "        'регуляризованная (regularized)': 'regularized_model.h5',\n",
        "        'с маскировкой (masked)': 'masked_model.h5'\n",
        "    }\n",
        "    models = {name: load_model(path) for name, path in model_paths.items()}\n",
        "\n",
        "    # Генерация противоречивых примеров (FGSM)\n",
        "    _, _, test_images, test_labels = preprocess_data()\n",
        "    adversarial_images = generate_adversarial_batch(models['защищенная (protected)'], test_images[:100], test_labels[:100], epsilon=0.1)\n",
        "\n",
        "    # Оценка моделей на противоречивых данных\n",
        "    evaluate_on_adversarial_data(models, adversarial_images, test_labels[:100])\n",
        "\n",
        "if __name__ == \"__main__\":\n",
        "    main()"
      ],
      "metadata": {
        "colab": {
          "base_uri": "https://localhost:8080/"
        },
        "id": "1OkuvR61EFu1",
        "outputId": "c4ffb587-e930-41b7-fd6e-dee57fe10e9e"
      },
      "execution_count": 6,
      "outputs": [
        {
          "output_type": "stream",
          "name": "stderr",
          "text": [
            "WARNING:absl:Compiled the loaded model, but the compiled metrics have yet to be built. `model.compile_metrics` will be empty until you train or evaluate the model.\n",
            "WARNING:absl:Compiled the loaded model, but the compiled metrics have yet to be built. `model.compile_metrics` will be empty until you train or evaluate the model.\n",
            "WARNING:absl:Compiled the loaded model, but the compiled metrics have yet to be built. `model.compile_metrics` will be empty until you train or evaluate the model.\n"
          ]
        },
        {
          "output_type": "stream",
          "name": "stdout",
          "text": [
            "Точность модели \"защищенная (protected)\" на противоречивых примерах: 0.5500\n",
            "Точность модели \"регуляризованная (regularized)\" на противоречивых примерах: 0.6800\n",
            "Точность модели \"с маскировкой (masked)\" на противоречивых примерах: 0.7100\n"
          ]
        }
      ]
    },
    {
      "cell_type": "markdown",
      "source": [
        "**Вывод:**\n",
        "\n",
        "В ходе эксперимента протестированы три подхода к защите моделей от атак с использованием противоречивых примеров: обучение на противоречивых данных, регуляризация с нормализацией и градиентная маскировка. Для оценки устойчивости использовались атакованные примеры, созданные методом FGSM.\n",
        "\n",
        "Результаты показали, что модель с градиентной маскировкой продемонстрировала наибольшую точность — 71.00%, немного опередив модель с регуляризацией и нормализацией, которая достигла 68.00%. Защищённая модель, обученная на противоречивых примерах, показала наименьшую точность — 55.00%.\n",
        "\n",
        "Таким образом, наиболее устойчивой к атакам оказалась модель с градиентной маскировкой, однако методы регуляризации и нормализации также показали высокий потенциал для защиты от атак."
      ],
      "metadata": {
        "id": "ZSe6FwOSHxpb"
      }
    }
  ]
}